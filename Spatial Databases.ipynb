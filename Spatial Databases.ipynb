{
  "nbformat": 4,
  "nbformat_minor": 0,
  "metadata": {
    "colab": {
      "provenance": []
    },
    "kernelspec": {
      "name": "python3",
      "display_name": "Python 3"
    },
    "language_info": {
      "name": "python"
    }
  },
  "cells": [
    {
      "cell_type": "code",
      "source": [
        "!pip install rtree"
      ],
      "metadata": {
        "colab": {
          "base_uri": "https://localhost:8080/"
        },
        "id": "wesHRmTgT-ZJ",
        "outputId": "fbdda447-4855-4bfd-827e-4430692db58c"
      },
      "execution_count": 14,
      "outputs": [
        {
          "output_type": "stream",
          "name": "stdout",
          "text": [
            "Requirement already satisfied: rtree in /usr/local/lib/python3.10/dist-packages (1.2.0)\n"
          ]
        }
      ]
    },
    {
      "cell_type": "code",
      "source": [
        "!pip install haversine"
      ],
      "metadata": {
        "colab": {
          "base_uri": "https://localhost:8080/"
        },
        "id": "tzH6xiiuXxQi",
        "outputId": "7df14489-0f81-471c-b20c-583340855757"
      },
      "execution_count": 15,
      "outputs": [
        {
          "output_type": "stream",
          "name": "stdout",
          "text": [
            "Requirement already satisfied: haversine in /usr/local/lib/python3.10/dist-packages (2.8.1)\n"
          ]
        }
      ]
    },
    {
      "cell_type": "code",
      "execution_count": 35,
      "metadata": {
        "id": "4ynlh7ETTqZm"
      },
      "outputs": [],
      "source": [
        "# Import necessary libraries\n",
        "import pandas as pd\n",
        "import geopandas as gpd\n",
        "from shapely.geometry import Point, box\n",
        "from rtree import index as rt_index\n",
        "import re\n",
        "import time\n",
        "from haversine import haversine, Unit"
      ]
    },
    {
      "cell_type": "code",
      "source": [
        "# 1. Index-building function\n",
        "def IndexBuilding(file_path):\n",
        "    poi_data = pd.read_csv(file_path)\n",
        "    poi_data['geometry'] = poi_data.apply(lambda row: Point(row['wgs_lng'], row['wgs_lat']), axis=1)\n",
        "    gdf = gpd.GeoDataFrame(poi_data, geometry='geometry')\n",
        "\n",
        "    idx = rt_index.Index()\n",
        "    for poi_id, row in gdf.iterrows():\n",
        "        idx.insert(int(poi_id), (row.geometry.x, row.geometry.y, row.geometry.x, row.geometry.y), obj=row)\n",
        "\n",
        "    return idx, gdf"
      ],
      "metadata": {
        "id": "lGGT_Kc2Tw9d"
      },
      "execution_count": 36,
      "outputs": []
    },
    {
      "cell_type": "code",
      "source": [
        "# 2. Range query function\n",
        "def RangeQuery(query_range, type_regex_str, idx, gdf):\n",
        "    results = []\n",
        "    regex = re.compile(type_regex_str)\n",
        "\n",
        "    if isinstance(query_range, tuple) and len(query_range) == 3:  # Circle range\n",
        "        center_point = (query_range[0], query_range[1])  # (lat, lon)\n",
        "        radius = query_range[2]  # Radius in kilometers\n",
        "\n",
        "        for id in idx.intersection((center_point[1] - radius/111, center_point[0] - radius/111,\n",
        "                                    center_point[1] + radius/111, center_point[0] + radius/111), objects=True):\n",
        "            row = gdf.iloc[id.id]\n",
        "            # Ensure type_code is treated as a string\n",
        "            type_code_str = str(row['type_code'])\n",
        "            if regex.match(type_code_str):  # Use the string version for regex matching\n",
        "                # Note: haversine() expects (lat, lon)\n",
        "                dist = haversine(center_point, (row.geometry.y, row.geometry.x))\n",
        "                if dist <= radius:\n",
        "                    results.append(row)\n",
        "    else:\n",
        "        raise ValueError(\"Invalid query_range format. Must be a circle (x, y, radius).\")\n",
        "    return pd.DataFrame(results)\n"
      ],
      "metadata": {
        "id": "gVpv0xyNTw_7"
      },
      "execution_count": 37,
      "outputs": []
    },
    {
      "cell_type": "code",
      "source": [
        "def NNQuery(query_point, type_regex_str, idx, gdf):\n",
        "    regex = re.compile(type_regex_str)\n",
        "    nearest_poi = None\n",
        "    min_dist = float('inf')  # Set to a very high number initially\n",
        "\n",
        "    for id in idx.intersection((query_point[1] - 0.05, query_point[0] - 0.05, query_point[1] + 0.05, query_point[0] + 0.05), objects=True):\n",
        "        row = gdf.iloc[id.id]\n",
        "        # Ensure type_code is treated as a string\n",
        "        type_code_str = str(row['type_code'])\n",
        "        if regex.match(type_code_str):\n",
        "            # Note: haversine() expects (lat, lon)\n",
        "            dist = haversine(query_point, (row.geometry.y, row.geometry.x))\n",
        "            if dist < min_dist:\n",
        "                nearest_poi = row\n",
        "                min_dist = dist\n",
        "\n",
        "    return nearest_poi\n"
      ],
      "metadata": {
        "id": "zUB24E1nTxCE"
      },
      "execution_count": 38,
      "outputs": []
    },
    {
      "cell_type": "code",
      "source": [
        "# 4. Brute-force range query function\n",
        "def RangeScan(query_range, type_regex_str, file_path):\n",
        "    poi_data = pd.read_csv(file_path)\n",
        "    results = []\n",
        "    regex = re.compile(type_regex_str)\n",
        "    for _, row in poi_data.iterrows():\n",
        "        if regex.match(row['type_code']):\n",
        "            point = Point(row['wgs_lng'], row['wgs_lat'])\n",
        "            if isinstance(query_range, tuple) and len(query_range) == 2:  # Rectangle range\n",
        "                if box(query_range[0][0], query_range[0][1], query_range[1][0], query_range[1][1]).contains(point):\n",
        "                    results.append(row)\n",
        "            elif isinstance(query_range, tuple) and len(query_range) == 3:  # Circle range\n",
        "                if point.distance(Point(query_range[0], query_range[1])) <= query_range[2]:\n",
        "                    results.append(row)\n",
        "    return pd.DataFrame(results)\n"
      ],
      "metadata": {
        "id": "K-oGzzVWTxEM"
      },
      "execution_count": 39,
      "outputs": []
    },
    {
      "cell_type": "code",
      "source": [
        "# 5. Brute-force nearest neighbor query function\n",
        "def NNScan(query_point, type_regex_str, file_path):\n",
        "    poi_data = pd.read_csv(file_path)\n",
        "    nearest_poi = None\n",
        "    min_dist = float('inf')\n",
        "    regex = re.compile(type_regex_str)\n",
        "    for _, row in poi_data.iterrows():\n",
        "        if regex.match(row['type_code']):\n",
        "            dist = Point(query_point[0], query_point[1]).distance(Point(row['wgs_lng'], row['wgs_lat']))\n",
        "            if dist < min_dist:\n",
        "                nearest_poi = row\n",
        "                min_dist = dist\n",
        "    return nearest_poi"
      ],
      "metadata": {
        "id": "p1fvdQ-MTxGc"
      },
      "execution_count": 40,
      "outputs": []
    },
    {
      "cell_type": "code",
      "source": [
        "# Loading and building index from the file\n",
        "index, gdf = IndexBuilding('/content/Assignment2-2012_BIT_POI.csv')\n"
      ],
      "metadata": {
        "id": "38xENOaZTxIr"
      },
      "execution_count": 41,
      "outputs": []
    },
    {
      "cell_type": "code",
      "source": [
        "# Check for restaurants within 500 meters of a specific point\n",
        "sample_point = (39.955, 116.310)  # Adjust as necessary\n",
        "sample_radius = 0.5  # 500 meters\n",
        "sample_restaurants = RangeQuery((sample_point[0], sample_point[1], sample_radius), '^5', index, gdf)\n",
        "print(f\"Number of restaurants within {sample_radius * 1000} meters: {len(sample_restaurants)}\")"
      ],
      "metadata": {
        "colab": {
          "base_uri": "https://localhost:8080/"
        },
        "id": "yEiFIs41Ztko",
        "outputId": "fa362eb1-1106-4fa6-9b92-87a692d0aba3"
      },
      "execution_count": 42,
      "outputs": [
        {
          "output_type": "stream",
          "name": "stdout",
          "text": [
            "Number of restaurants within 500.0 meters: 36\n"
          ]
        }
      ]
    },
    {
      "cell_type": "code",
      "source": [
        "# Display some of the found restaurants, if any\n",
        "if len(sample_restaurants) > 0:\n",
        "    print(sample_restaurants[['name', 'type_code', 'wgs_lat', 'wgs_lng']])"
      ],
      "metadata": {
        "colab": {
          "base_uri": "https://localhost:8080/"
        },
        "id": "EUuX-L8NZvhh",
        "outputId": "7016036c-d10d-497a-89e3-44a2721dd9a4"
      },
      "execution_count": 43,
      "outputs": [
        {
          "output_type": "stream",
          "name": "stdout",
          "text": [
            "               name  type_code    wgs_lat     wgs_lng\n",
            "249    参差咖啡（北京魏公村店）      50500  39.955897  116.312532\n",
            "70             大象空间      50500  39.955902  116.312352\n",
            "28              桥咖啡      50500  39.957699  116.306435\n",
            "181   贝果西饼店（韦伯豪家园西）      50800  39.953295  116.312585\n",
            "259             稻香村      50800  39.953351  116.313283\n",
            "65      大才子面馆（魏公村店）      50100  39.953606  116.312426\n",
            "71       风波庄（魏公村分舵）      50100  39.953619  116.312465\n",
            "260        咕咕派（北外店）      50000  39.953622  116.312385\n",
            "247      六和烤鸡（魏公村店）      50000  39.953636  116.312961\n",
            "180  东北骨头庄（韦伯豪家园西北）      50100  39.953643  116.313156\n",
            "18        北京晋南建梅主食店      50000  39.953668  116.313368\n",
            "33          浩日沁蒙古餐厅      50100  39.953719  116.312066\n",
            "178       肥羊王（魏公村店）      50117  39.953719  116.312066\n",
            "63         九亿（魏公村店）      50100  39.953846  116.313390\n",
            "27            花舞陕一边      50115  39.955785  116.314059\n",
            "254           乡村啤酒屋      50100  39.953008  116.310855\n",
            "253      渝州家厨（魏公村店）      50102  39.953116  116.311681\n",
            "248        阿曼尼萨汗美食城      50121  39.953130  116.311558\n",
            "67       周黑鸭（中友大厦北）      50000  39.953135  116.311408\n",
            "135     北京外国语大学学生食堂      50100  39.953233  116.309386\n",
            "257     北京外国语大学教工餐厅      50100  39.953913  116.310195\n",
            "136     北京外国语大学清真餐厅      50121  39.953943  116.310765\n",
            "252   胶东海鲜大排档（魏公村店）      50119  39.954357  116.310987\n",
            "8           老自行车咖啡馆      50500  39.954419  116.310982\n",
            "73          江依林韩式快餐      50300  39.954467  116.311336\n",
            "62      万记麻辣烫（魏公村店）      50100  39.954578  116.310908\n",
            "194    一志日本料理（魏公村店）      50202  39.954673  116.310894\n",
            "251            南门烤翅      50118  39.955509  116.309072\n",
            "258           巫山烤全鱼      50118  39.955509  116.308983\n",
            "195    麻里麻里香锅（魏公村店）      50117  39.955512  116.309156\n",
            "130           金榜缘食府      50100  39.955878  116.307034\n",
            "132            第七食堂      50100  39.955991  116.306872\n",
            "200         Ｈｅｌｅｎ＇ｓ      50500  39.956000  116.311081\n",
            "184            富翔鸡煲      50100  39.956008  116.311210\n",
            "183           小福乐菜馆      50111  39.956008  116.311166\n",
            "41               Ａ８      50400  39.956014  116.311414\n"
          ]
        }
      ]
    },
    {
      "cell_type": "code",
      "source": [
        "# Nearest ATM to the Central Building of BIT\n",
        "nearest_atm = NNQuery((39.958, 116.311), '^1603', index, gdf)\n",
        "if nearest_atm is not None:\n",
        "    print(\"Nearest ATM:\", nearest_atm['name'])\n",
        "else:\n",
        "    print(\"No ATM found\")\n"
      ],
      "metadata": {
        "colab": {
          "base_uri": "https://localhost:8080/"
        },
        "id": "8hJAYOixTxK9",
        "outputId": "3f460a56-9742-4afb-cf8e-497275297119"
      },
      "execution_count": 45,
      "outputs": [
        {
          "output_type": "stream",
          "name": "stdout",
          "text": [
            "Nearest ATM: 招商银行ＡＴＭ（魏公村路８号院东北）\n"
          ]
        }
      ]
    }
  ]
}